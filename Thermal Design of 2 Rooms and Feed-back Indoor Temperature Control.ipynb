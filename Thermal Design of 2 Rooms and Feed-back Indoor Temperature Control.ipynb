{
 "cells": [
  {
   "cell_type": "markdown",
   "metadata": {
    "id": "1oMyIzeOMMxp"
   },
   "source": [
    "Authors:\n",
    "- Anton PILHAGE\n",
    "- Vyshnav THANIYIL CHANGATTU\n",
    "- Henry LY\n",
    "\n",
    "Objective:\n",
    "- Physical analysis of model rooms with 7 concrete walls including insulation, 3 doors, 4 windows, and ventillations. \n",
    "- Model a controller for indoor temperature."
   ]
  },
  {
   "cell_type": "markdown",
   "metadata": {
    "id": "cOi9m0LvMMxs"
   },
   "source": [
    "# Model\n",
    "Here, we define the parameters required of the model and develop mathemtical model of the design."
   ]
  },
  {
   "cell_type": "markdown",
   "metadata": {
    "id": "pSfqtJKzMMxt"
   },
   "source": [
    "## Elements of the thermal network\n",
    "\n",
    "The thermal resistances for conduction are of the form:\n",
    "$$R_{cd} = \\frac{w}{\\lambda S}$$\n",
    "where:\n",
    "\n",
    "- $w$ is the width of the material, m;\n",
    "- $\\lambda$ - thermal conductvity, W/m K;\n",
    "- $S$ - surface area of the wall, m²\n",
    "\n",
    "The thermals resistance for convection are of the form:\n",
    "$$R_{cv} = \\frac{1}{h S}$$\n",
    "where:\n",
    "- $h$ is the convection coefficient, W/m² K;\n",
    "- $S$ - surface area of the wall, m².\n",
    "\n",
    "The thermal capacities of the wall are of the form:\n",
    "$$C_{wall}= \\rho_{wall} c_{p, wall} w_{wall} S_{wall}$$\n",
    "\n",
    "The thermal capacity of the air is:\n",
    "$$C_{air} = \\rho_{air} c_{air} V_{air}$$\n",
    "\n",
    "The total shortwave incident irradiation on the wall $i$, $G_i$, may be estimated as a function of the direct solar irradiation incident on the surface of the walls, $G_{i}^{o}$:\n",
    "\n",
    "$$S_i G_i = S_i G_{i}^{o} + \\sum_{j=1}^{n} F_{j,i} S_j \\rho_j G_j$$\n",
    "\n",
    "where:\n",
    "- $S_i$ is the area of the surface of the wall $i$ [m²];\n",
    "- $G_i$ - total irradiation received directly and by mutiple reflections on surface $i$ [W/m²];\n",
    "- $G_{i}^{o}$ - irradiance received directly from the sun on surface $i$ [W/m²];\n",
    "- $F_{j, i}$ - view factor between surface $j$ and surface $i$, $0 ⩽ F_{j,i} ⩽ 1$;\n",
    "- $\\rho_j$ - reflectivity of surface $j$, $0 ⩽ \\rho_j ⩽ 1$.\n",
    "\n",
    "\n",
    "By taking into account the *reciprocity relation*: $S_i F_{i,j} = S_j F_{j,i}$, the previous equation becomes:\n",
    "\n",
    "$$\n",
    "\\begin{bmatrix}\n",
    "1 - \\rho_1 F_{1,1} & - \\rho_2 F_{1,2}     & ...  & - \\rho_n F_{1,n}\\\\ \n",
    "- \\rho_1 F_{2,1}   & 1 - \\rho_2 F_{2,2}  & ...  & - \\rho_n F_{2,n} \\\\ \n",
    "...                         & ...                            & ...  & ... \\\\ \n",
    "- \\rho_1 F_{n,1}  & - \\rho_2 F_{n,1}      & ... & 1 - \\rho_n F_{n,n}\n",
    "\\end{bmatrix} \\begin{bmatrix}\n",
    "G_1\\\\ \n",
    "G_2\\\\ \n",
    "...\\\\ \n",
    "G_n\n",
    "\\end{bmatrix} = \\begin{bmatrix}\n",
    "G_{1}^{o}\\\\ \n",
    "G_{2}^{o}\\\\ \n",
    "...\\\\ \n",
    "G_{n}^{o}\n",
    "\\end{bmatrix}\n",
    "$$\n",
    "\n",
    "or\n",
    "\n",
    "$$[I - \\rho F] G = G^o$$\n",
    "\n",
    "where:\n",
    "\n",
    "- $I =\\begin{bmatrix}\n",
    "1 & 0 & ... & 0 \\\\ \n",
    "0 & 1 & ... & 0 \\\\ \n",
    "... & ... & ... & ...\\\\ \n",
    "0 & 0 & ... & 1 \n",
    "\\end{bmatrix}, $ is the identity matrix;\n",
    "\n",
    "- $\\rho = \\begin{bmatrix}\n",
    "\\rho_1 & 0 & ... & 0\\\\ \n",
    "0 & \\rho_2  & ... & 0 \\\\ \n",
    "... & ... & ... & ...\\\\ \n",
    "0 & 0 & ... & \\rho_n \n",
    "\\end{bmatrix}$ - matrix of reflexivities;\n",
    "\n",
    "- $F = \\begin{bmatrix}\n",
    "F_{1,1} & F_{1,2} & ... & F_{1,n}\\\\ \n",
    "F_{2,1} & F_{2,2} & ... & F_{2,n} \\\\ \n",
    "... & ... & ... & ...\\\\ \n",
    "F_{n,1} & F_{n,2} & ... & F_{n,n}\n",
    "\\end{bmatrix}$ - matrix of view factors;\n",
    "\n",
    "- $G = \\begin{bmatrix}\n",
    "G_1\\\\ \n",
    "G_2\\\\ \n",
    "...\\\\ \n",
    "G_n\n",
    "\\end{bmatrix}$ - vector of unknown total irradiances;\n",
    "\n",
    "- $G^o = \\begin{bmatrix}\n",
    "G_{1}^{o}\\\\ \n",
    "G_{2}^{o}\\\\ \n",
    "...\\\\ \n",
    "G_{n}^{o}\n",
    "\\end{bmatrix}$ - vector of direct solar irradiances.\n",
    "\n",
    "The unknown total irradiances are then\n",
    "$$ G = [I - \\rho F]^{-1} G^o$$\n",
    "\n",
    "The radiative short wave (i.e. solar) heat flow rate on each surface is:\n",
    "$$ \\Phi = S G $$\n",
    "where:\n",
    "- $\\Phi = \\begin{bmatrix}\n",
    "\\Phi_1\\\\ \n",
    "\\Phi_2\\\\ \n",
    "...\\\\ \n",
    "\\Phi_n\n",
    "\\end{bmatrix}$ - vector of total heat flow rates due to solar radiation [W]; \n",
    "\n",
    "- $S =\\begin{bmatrix}\n",
    "S_1 & 0 & ... & 0 \\\\ \n",
    "0 & S_2 & ... & 0 \\\\ \n",
    "... & ... & ... & ...\\\\ \n",
    "0 & 0 & ... & S_n \n",
    "\\end{bmatrix}$ - matrix of surface areas of walls $i$ [m²]."
   ]
  },
  {
   "cell_type": "markdown",
   "metadata": {
    "id": "7D--yAtFMMxu"
   },
   "source": [
    "## Importing Libraries"
   ]
  },
  {
   "cell_type": "code",
   "execution_count": 1,
   "metadata": {
    "executionInfo": {
     "elapsed": 266,
     "status": "ok",
     "timestamp": 1654364017305,
     "user": {
      "displayName": "Ly Henry",
      "userId": "15002327522031488316"
     },
     "user_tz": -120
    },
    "id": "UQZZUuVWMMxu"
   },
   "outputs": [],
   "source": [
    "import numpy as np\n",
    "import pandas as pd\n",
    "import matplotlib.pyplot as plt"
   ]
  },
  {
   "cell_type": "markdown",
   "metadata": {
    "id": "3T1nM8ObMMxv"
   },
   "source": [
    "## Physical Analysis and Mathematical Modelling"
   ]
  },
  {
   "cell_type": "markdown",
   "metadata": {
    "id": "Y38dVLFxMMxw"
   },
   "source": [
    "We consider 2 rooms with 2 exterior doors and one interior door connecting two rooms, as well as 2 windows per each room, HVAC system and ventillation chambers.\n",
    "\\\n",
    "Considering HVAC system controlled by a P - controller.\n",
    "![thermal_circuit](Thermal_circuit.png)\n",
    "> Thermal circuit."
   ]
  },
  {
   "cell_type": "code",
   "execution_count": 2,
   "metadata": {
    "executionInfo": {
     "elapsed": 34,
     "status": "ok",
     "timestamp": 1654364018377,
     "user": {
      "displayName": "Ly Henry",
      "userId": "15002327522031488316"
     },
     "user_tz": -120
    },
    "id": "HnPsjYlHMMxw"
   },
   "outputs": [],
   "source": [
    "# P-controler gain\n",
    "Kp = 1e4"
   ]
  },
  {
   "cell_type": "code",
   "execution_count": 3,
   "metadata": {
    "executionInfo": {
     "elapsed": 34,
     "status": "ok",
     "timestamp": 1654364018378,
     "user": {
      "displayName": "Ly Henry",
      "userId": "15002327522031488316"
     },
     "user_tz": -120
    },
    "id": "OeNgV8L4MMxx"
   },
   "outputs": [],
   "source": [
    "l_room = 3               # m length of the cubic room\n",
    "Sg = l_room**2           # m² surface of the glass wall\n",
    "Sc = Si = 5 * Sg    # m² surface of concrete & insulation of the 5 walls"
   ]
  },
  {
   "cell_type": "code",
   "execution_count": 4,
   "metadata": {
    "executionInfo": {
     "elapsed": 34,
     "status": "ok",
     "timestamp": 1654364018379,
     "user": {
      "displayName": "Ly Henry",
      "userId": "15002327522031488316"
     },
     "user_tz": -120
    },
    "id": "V1tdTTS3MMxx"
   },
   "outputs": [],
   "source": [
    "Va = l_room**3           # m³ volume of air\n",
    "ACH = 1             # air changes per hour\n",
    "Va_dot = ACH * Va / 3600    # m³/s air infiltration"
   ]
  },
  {
   "cell_type": "markdown",
   "metadata": {
    "id": "3JFd5mJLMMxy"
   },
   "source": [
    "Thermophysical propwerties of air is given as:"
   ]
  },
  {
   "cell_type": "code",
   "execution_count": 5,
   "metadata": {
    "executionInfo": {
     "elapsed": 34,
     "status": "ok",
     "timestamp": 1654364018380,
     "user": {
      "displayName": "Ly Henry",
      "userId": "15002327522031488316"
     },
     "user_tz": -120
    },
    "id": "oqVlJtQOMMxy"
   },
   "outputs": [],
   "source": [
    "air = {'Density': 1.2,                      # kg/m³\n",
    "       'Specific heat': 1000}               # J/kg.K"
   ]
  },
  {
   "cell_type": "markdown",
   "metadata": {
    "id": "WZ54SN8tMMxy"
   },
   "source": [
    "Thermophysical properties and surface area of materials given below:"
   ]
  },
  {
   "cell_type": "code",
   "execution_count": 6,
   "metadata": {
    "executionInfo": {
     "elapsed": 31,
     "status": "ok",
     "timestamp": 1654364018380,
     "user": {
      "displayName": "Ly Henry",
      "userId": "15002327522031488316"
     },
     "user_tz": -120
    },
    "id": "XbhmC7m0MMxy"
   },
   "outputs": [],
   "source": [
    "wall = {'Conductivity': [1.4, 0.027, 1.4],  # W/m.K\n",
    "        'Density': [2300, 55, 2500],        # kg/m³\n",
    "        'Specific heat': [880, 1210, 750],  # J/kg.K\n",
    "        'Width': [0.2, 0.08, 0.004],\n",
    "        'Surface': [5 * l_room**2, 5 * l_room**2, l_room**2],  # m²\n",
    "        'Slices': [4, 2, 1]}                # number of discretizations\n",
    "wall = pd.DataFrame(wall, index=['Concrete', 'Insulation', 'Glass'])"
   ]
  },
  {
   "cell_type": "markdown",
   "metadata": {
    "id": "Al2YbOWuMMxz"
   },
   "source": [
    "Radiative Properties of the surface:"
   ]
  },
  {
   "cell_type": "code",
   "execution_count": 7,
   "metadata": {
    "executionInfo": {
     "elapsed": 31,
     "status": "ok",
     "timestamp": 1654364018381,
     "user": {
      "displayName": "Ly Henry",
      "userId": "15002327522031488316"
     },
     "user_tz": -120
    },
    "id": "8DfxqcviMMxz"
   },
   "outputs": [],
   "source": [
    "ε_wLW = 0.9     # long wave wall emmisivity (concrete)\n",
    "α_wSW = 0.2     # absortivity white surface\n",
    "ε_gLW = 0.9     # long wave glass emmisivity (glass pyrex)\n",
    "τ_gSW = 0.83    # short wave glass transmitance (glass)\n",
    "α_gSW = 0.1     # short wave glass absortivity\n",
    "\n",
    "σ = 5.67e-8     # W/m².K⁴ Stefan-Bolzmann constant"
   ]
  },
  {
   "cell_type": "markdown",
   "metadata": {
    "id": "Ju-jJsEKMMxz"
   },
   "source": [
    "The view factor between the wall and the window (glass):"
   ]
  },
  {
   "cell_type": "code",
   "execution_count": 8,
   "metadata": {
    "executionInfo": {
     "elapsed": 31,
     "status": "ok",
     "timestamp": 1654364018381,
     "user": {
      "displayName": "Ly Henry",
      "userId": "15002327522031488316"
     },
     "user_tz": -120
    },
    "id": "kJNSBbIRMMxz"
   },
   "outputs": [],
   "source": [
    "Fwg = 1 / 5     # view factor wall - glass"
   ]
  },
  {
   "cell_type": "markdown",
   "metadata": {
    "id": "hTugn-CqMMxz"
   },
   "source": [
    "The mean temperature of the surfaces (used for the linearization of the radiative heat exchange) is:"
   ]
  },
  {
   "cell_type": "code",
   "execution_count": 9,
   "metadata": {
    "executionInfo": {
     "elapsed": 31,
     "status": "ok",
     "timestamp": 1654364018382,
     "user": {
      "displayName": "Ly Henry",
      "userId": "15002327522031488316"
     },
     "user_tz": -120
    },
    "id": "J_QlwB1qMMx0"
   },
   "outputs": [],
   "source": [
    "Tm = 20 + 273   # mean temp for radiative exchange\n",
    "\n",
    "# convection coefficients, W/m² K\n",
    "h = pd.DataFrame([{'in': 4., 'out': 10}])"
   ]
  },
  {
   "cell_type": "markdown",
   "metadata": {
    "id": "fyw4CzERMMx0"
   },
   "source": [
    "### Thermal Conductance\n"
   ]
  },
  {
   "cell_type": "code",
   "execution_count": 10,
   "metadata": {
    "executionInfo": {
     "elapsed": 31,
     "status": "ok",
     "timestamp": 1654364018382,
     "user": {
      "displayName": "Ly Henry",
      "userId": "15002327522031488316"
     },
     "user_tz": -120
    },
    "id": "amirIV2aMMx0"
   },
   "outputs": [],
   "source": [
    "G_cd = wall['Conductivity'] / wall['Width'] * wall['Surface']\n",
    "\n",
    "# Convection\n",
    "Gw = h * wall['Surface'][0]     # wall\n",
    "Gg = h * wall['Surface'][2]     # glass\n",
    "\n",
    "# Long-wave radiation exchnage\n",
    "GLW1 = ε_wLW / (1 - ε_wLW) * wall['Surface']['Insulation'] * 4 * σ * Tm**3\n",
    "GLW2 = Fwg * wall['Surface']['Insulation'] * 4 * σ * Tm**3\n",
    "GLW3 = ε_gLW / (1 - ε_gLW) * wall['Surface']['Glass'] * 4 * σ * Tm**3\n",
    "# long-wave exg. wall-glass\n",
    "GLW = 1 / (1 / GLW1 + 1 / GLW2 + 1 / GLW3)\n",
    "\n",
    "# ventilation & advection\n",
    "Gv = Va_dot * air['Density'] * air['Specific heat']\n",
    "\n",
    "# glass: convection outdoor & conduction\n",
    "Ggs = float(1 / (1 / Gg['out'] + 1 / (2 * G_cd['Glass'])))"
   ]
  },
  {
   "cell_type": "markdown",
   "metadata": {
    "id": "60Rgsf-wMMx0"
   },
   "source": [
    "### Thermal Capacities"
   ]
  },
  {
   "cell_type": "code",
   "execution_count": 11,
   "metadata": {
    "executionInfo": {
     "elapsed": 31,
     "status": "ok",
     "timestamp": 1654364018383,
     "user": {
      "displayName": "Ly Henry",
      "userId": "15002327522031488316"
     },
     "user_tz": -120
    },
    "id": "pwJ19sNrMMx0"
   },
   "outputs": [],
   "source": [
    "C = wall['Density'] * wall['Specific heat'] * wall['Surface'] * wall['Width']\n",
    "C['Air'] = air['Density'] * air['Specific heat'] * Va"
   ]
  },
  {
   "cell_type": "markdown",
   "metadata": {
    "id": "j8TsxZUdMMx1"
   },
   "source": [
    "### Incidence Matrix"
   ]
  },
  {
   "cell_type": "code",
   "execution_count": 12,
   "metadata": {
    "colab": {
     "base_uri": "https://localhost:8080/"
    },
    "executionInfo": {
     "elapsed": 31,
     "status": "ok",
     "timestamp": 1654364018383,
     "user": {
      "displayName": "Ly Henry",
      "userId": "15002327522031488316"
     },
     "user_tz": -120
    },
    "id": "hsiOJeyvMMx1",
    "outputId": "d8a28317-d209-4b06-9068-e33b48d127fd"
   },
   "outputs": [
    {
     "name": "stdout",
     "output_type": "stream",
     "text": [
      "A = \n",
      "[[ 1.  0.  0.  0.  0.  0.  0.  0.  0.  0.  0.  0.  0.  0.  0.  0.  0.]\n",
      " [-1.  1.  0.  0.  0.  0.  0.  0.  0.  0.  0.  0.  0.  0.  0.  0.  0.]\n",
      " [ 0. -1.  1.  0.  0.  0.  0.  0.  0.  0.  0.  0.  0.  0.  0.  0.  0.]\n",
      " [ 0.  0. -1.  1.  0.  0.  0.  0.  0.  0.  0.  0.  0.  0.  0.  0.  0.]\n",
      " [ 0.  0.  0. -1.  1.  0.  0.  0.  0.  0.  0.  0.  0.  0.  0.  0.  0.]\n",
      " [ 0.  0.  0.  0. -1.  0.  0.  1.  0.  0.  0.  0.  0.  0.  0.  0.  0.]\n",
      " [ 0.  0.  0.  0.  0.  1.  0.  0.  0.  0.  0.  0.  0.  0.  0.  0.  0.]\n",
      " [ 0.  0.  0.  0.  0. -1.  0.  1.  0.  0.  0.  0.  0.  0.  0.  0.  0.]\n",
      " [ 0.  0.  0.  0.  0.  0.  1.  0.  0.  0.  0.  0.  0.  0.  0.  0.  0.]\n",
      " [ 0.  0.  0.  0.  0.  0. -1.  1.  0.  0.  0.  0.  0.  0.  0.  0.  0.]\n",
      " [ 0.  0.  0.  0.  0.  0.  0.  1.  0.  0.  0.  0.  0.  0.  0.  0.  0.]\n",
      " [ 0.  0.  0.  0.  0.  0.  0. -1.  1.  0.  0.  0.  0.  0.  0.  0.  0.]\n",
      " [ 0.  0.  0.  0.  0.  0.  0. -1.  0.  1.  0.  0.  0.  0.  0.  0.  0.]\n",
      " [ 0.  0.  0.  0.  0.  0.  0.  0.  1. -1.  0.  0.  0.  0.  0.  0.  0.]\n",
      " [ 0.  0.  0.  0.  0.  0.  0.  0. -1.  0.  1.  0.  0.  0.  0.  0.  0.]\n",
      " [ 0.  0.  0.  0.  0.  0.  0.  0.  0.  0. -1.  1.  0.  0.  0.  0.  0.]\n",
      " [ 0.  0.  0.  0.  0.  0.  0.  0.  0.  0.  0. -1.  1.  0.  0.  0.  0.]\n",
      " [ 0.  0.  0.  0.  0.  0.  0.  0.  0.  0.  0.  0. -1.  1.  0.  0.  0.]\n",
      " [ 0.  0.  0.  0.  0.  0.  0.  0.  0.  0.  0.  0.  0. -1.  1.  0.  0.]\n",
      " [ 0.  0.  0.  0.  0.  0.  0.  0.  0.  0.  0.  0.  0.  0. -1.  0.  0.]\n",
      " [ 0.  0.  0.  0.  0.  0.  0.  0. -1.  0.  0.  0.  0.  0.  0.  1.  0.]\n",
      " [ 0.  0.  0.  0.  0.  0.  0.  0.  0.  0.  0.  0.  0.  0.  0. -1.  0.]\n",
      " [ 0.  0.  0.  0.  0.  0.  0.  0. -1.  0.  0.  0.  0.  0.  0.  0.  1.]\n",
      " [ 0.  0.  0.  0.  0.  0.  0.  0.  0.  0.  0.  0.  0.  0.  0.  0. -1.]\n",
      " [ 0.  0.  0.  0.  0.  0.  0.  0. -1.  0.  0.  0.  0.  0.  0.  0.  0.]]\n"
     ]
    }
   ],
   "source": [
    "A = np.zeros([25, 17])\n",
    "A[0, 0] = 1\n",
    "A[1, 0], A[1, 1] = -1, 1\n",
    "A[2, 1], A[2, 2] = -1, 1\n",
    "A[3, 2], A[3, 3] = -1, 1\n",
    "A[4, 3], A[4, 4] = -1, 1\n",
    "A[5, 4], A[5, 7] = -1, 1\n",
    "A[6, 5] = 1\n",
    "A[7, 5], A[7, 7] = -1, 1\n",
    "A[8, 6] = 1\n",
    "A[9, 6], A[9, 7] = -1, 1\n",
    "A[10, 7] = 1\n",
    "A[11, 7], A[11, 8] = -1, 1\n",
    "A[12, 7], A[12, 9] = -1, 1\n",
    "A[13, 8], A[13, 9] = 1, -1\n",
    "A[14, 8], A[14, 10] = -1, 1\n",
    "A[15, 10], A[15, 11] = -1, 1\n",
    "A[16, 11], A[16, 12] = -1, 1\n",
    "A[17, 12], A[17, 13] = -1, 1\n",
    "A[18, 13], A[18, 14] = -1, 1\n",
    "A[19, 14] = -1\n",
    "A[20, 8], A[20, 15] = -1, 1\n",
    "A[21, 15] = -1\n",
    "A[22, 8], A[22, 16] = -1, 1\n",
    "A[23, 16] = -1\n",
    "A[24, 8] = -1\n",
    "\n",
    "np.set_printoptions(suppress=False)\n",
    "print(f'A = \\n{A}')"
   ]
  },
  {
   "cell_type": "code",
   "execution_count": 13,
   "metadata": {},
   "outputs": [
    {
     "name": "stdout",
     "output_type": "stream",
     "text": [
      "G: \n",
      "[[  450.        0.        0.        0.        0.        0.        0.\n",
      "      0.        0.        0.        0.        0.        0.        0.\n",
      "      0.        0.        0.        0.        0.        0.        0.\n",
      "      0.        0.        0.        0.   ]\n",
      " [    0.      315.        0.        0.        0.        0.        0.\n",
      "      0.        0.        0.        0.        0.        0.        0.\n",
      "      0.        0.        0.        0.        0.        0.        0.\n",
      "      0.        0.        0.        0.   ]\n",
      " [    0.        0.      315.        0.        0.        0.        0.\n",
      "      0.        0.        0.        0.        0.        0.        0.\n",
      "      0.        0.        0.        0.        0.        0.        0.\n",
      "      0.        0.        0.        0.   ]\n",
      " [    0.        0.        0.       15.187     0.        0.        0.\n",
      "      0.        0.        0.        0.        0.        0.        0.\n",
      "      0.        0.        0.        0.        0.        0.        0.\n",
      "      0.        0.        0.        0.   ]\n",
      " [    0.        0.        0.        0.       15.187     0.        0.\n",
      "      0.        0.        0.        0.        0.        0.        0.\n",
      "      0.        0.        0.        0.        0.        0.        0.\n",
      "      0.        0.        0.        0.   ]\n",
      " [    0.        0.        0.        0.        0.       36.        0.\n",
      "      0.        0.        0.        0.        0.        0.        0.\n",
      "      0.        0.        0.        0.        0.        0.        0.\n",
      "      0.        0.        0.        0.   ]\n",
      " [    0.        0.        0.        0.        0.        0.      450.\n",
      "      0.        0.        0.        0.        0.        0.        0.\n",
      "      0.        0.        0.        0.        0.        0.        0.\n",
      "      0.        0.        0.        0.   ]\n",
      " [    0.        0.        0.        0.        0.        0.        0.\n",
      "   3150.        0.        0.        0.        0.        0.        0.\n",
      "      0.        0.        0.        0.        0.        0.        0.\n",
      "      0.        0.        0.        0.   ]\n",
      " [    0.        0.        0.        0.        0.        0.        0.\n",
      "      0.      450.        0.        0.        0.        0.        0.\n",
      "      0.        0.        0.        0.        0.        0.        0.\n",
      "      0.        0.        0.        0.   ]\n",
      " [    0.        0.        0.        0.        0.        0.        0.\n",
      "      0.        0.       88.732     0.        0.        0.        0.\n",
      "      0.        0.        0.        0.        0.        0.        0.\n",
      "      0.        0.        0.        0.   ]\n",
      " [    0.        0.        0.        0.        0.        0.        0.\n",
      "      0.        0.        0.        9.        0.        0.        0.\n",
      "      0.        0.        0.        0.        0.        0.        0.\n",
      "      0.        0.        0.        0.   ]\n",
      " [    0.        0.        0.        0.        0.        0.        0.\n",
      "      0.        0.        0.        0.    10000.        0.        0.\n",
      "      0.        0.        0.        0.        0.        0.        0.\n",
      "      0.        0.        0.        0.   ]\n",
      " [    0.        0.        0.        0.        0.        0.        0.\n",
      "      0.        0.        0.        0.        0.      315.        0.\n",
      "      0.        0.        0.        0.        0.        0.        0.\n",
      "      0.        0.        0.        0.   ]\n",
      " [    0.        0.        0.        0.        0.        0.        0.\n",
      "      0.        0.        0.        0.        0.        0.      315.\n",
      "      0.        0.        0.        0.        0.        0.        0.\n",
      "      0.        0.        0.        0.   ]\n",
      " [    0.        0.        0.        0.        0.        0.        0.\n",
      "      0.        0.        0.        0.        0.        0.        0.\n",
      "     36.        0.        0.        0.        0.        0.        0.\n",
      "      0.        0.        0.        0.   ]\n",
      " [    0.        0.        0.        0.        0.        0.        0.\n",
      "      0.        0.        0.        0.        0.        0.        0.\n",
      "      0.       15.187     0.        0.        0.        0.        0.\n",
      "      0.        0.        0.        0.   ]\n",
      " [    0.        0.        0.        0.        0.        0.        0.\n",
      "      0.        0.        0.        0.        0.        0.        0.\n",
      "      0.        0.       15.187     0.        0.        0.        0.\n",
      "      0.        0.        0.        0.   ]\n",
      " [    0.        0.        0.        0.        0.        0.        0.\n",
      "      0.        0.        0.        0.        0.        0.        0.\n",
      "      0.        0.        0.      315.        0.        0.        0.\n",
      "      0.        0.        0.        0.   ]\n",
      " [    0.        0.        0.        0.        0.        0.        0.\n",
      "      0.        0.        0.        0.        0.        0.        0.\n",
      "      0.        0.        0.        0.      315.        0.        0.\n",
      "      0.        0.        0.        0.   ]\n",
      " [    0.        0.        0.        0.        0.        0.        0.\n",
      "      0.        0.        0.        0.        0.        0.        0.\n",
      "      0.        0.        0.        0.        0.      450.        0.\n",
      "      0.        0.        0.        0.   ]\n",
      " [    0.        0.        0.        0.        0.        0.        0.\n",
      "      0.        0.        0.        0.        0.        0.        0.\n",
      "      0.        0.        0.        0.        0.        0.     3150.\n",
      "      0.        0.        0.        0.   ]\n",
      " [    0.        0.        0.        0.        0.        0.        0.\n",
      "      0.        0.        0.        0.        0.        0.        0.\n",
      "      0.        0.        0.        0.        0.        0.        0.\n",
      "    450.        0.        0.        0.   ]\n",
      " [    0.        0.        0.        0.        0.        0.        0.\n",
      "      0.        0.        0.        0.        0.        0.        0.\n",
      "      0.        0.        0.        0.        0.        0.        0.\n",
      "      0.       88.732     0.        0.   ]\n",
      " [    0.        0.        0.        0.        0.        0.        0.\n",
      "      0.        0.        0.        0.        0.        0.        0.\n",
      "      0.        0.        0.        0.        0.        0.        0.\n",
      "      0.        0.      450.        0.   ]\n",
      " [    0.        0.        0.        0.        0.        0.        0.\n",
      "      0.        0.        0.        0.        0.        0.        0.\n",
      "      0.        0.        0.        0.        0.        0.        0.\n",
      "      0.        0.        0.        9.   ]]\n"
     ]
    }
   ],
   "source": [
    "G = np.diag([Gw.iloc[0]['out'], G_cd['Concrete'], G_cd['Concrete'], G_cd['Insulation'], G_cd['Insulation'], \n",
    "            Gg.iloc[0]['in'], Gw.iloc[0]['out'], G_cd['Glass'], Gw.iloc[0]['out'], Ggs, \n",
    "             Gv, Kp, G_cd['Concrete'], G_cd['Concrete'], Gg.iloc[0]['in'], \n",
    "              G_cd['Insulation'], G_cd['Insulation'], G_cd['Concrete'], G_cd['Concrete'], \n",
    "             Gw.iloc[0]['out'], G_cd['Glass'], Gw.iloc[0]['out'], Ggs, Gw.iloc[0]['out'], Gv\n",
    "            ])\n",
    "\n",
    "np.set_printoptions(precision=3, threshold=16, suppress=True)\n",
    "with np.printoptions(threshold=np.inf):\n",
    "    print(f'G: \\n{G}')"
   ]
  },
  {
   "cell_type": "markdown",
   "metadata": {
    "id": "whBItmfQMMx1"
   },
   "source": [
    "### Conductance Matrix"
   ]
  },
  {
   "cell_type": "markdown",
   "metadata": {
    "colab": {
     "base_uri": "https://localhost:8080/"
    },
    "executionInfo": {
     "elapsed": 27,
     "status": "ok",
     "timestamp": 1654364018384,
     "user": {
      "displayName": "Ly Henry",
      "userId": "15002327522031488316"
     },
     "user_tz": -120
    },
    "id": "XO3oZ4J0MMx1",
    "outputId": "796168e6-c0bd-487a-8d8b-5d16bafc64af"
   },
   "source": [
    "G = np.diag([Gw.iloc[0]['out'], Gw.iloc[0]['out'], Gw.iloc[0]['out'], Gw.iloc[0]['out'],\n",
    "             Gw.iloc[0]['out'], Gw.iloc[0]['out'], Gw.iloc[0]['out'], 2 * G_cd['Concrete'], \n",
    "             2 * G_cd['Concrete'], 2 * G_cd['Concrete'], \n",
    "             2 * G_cd['Concrete'], 2 * G_cd['Concrete'], 2 * G_cd['Concrete'],\n",
    "             2 * G_cd['Concrete'], 2 * G_cd['Concrete'],\n",
    "             2 * G_cd['Insulation'], 2 * G_cd['Insulation'], 2 * G_cd['Insulation'],\n",
    "             GLW, Gw.iloc[0]['in'], Gg.iloc[0]['in'], Ggs,\n",
    "             2 * G_cd['Glass'], Gv, Kp])\n",
    "# 2*G means 2 sides of the surface\n",
    "\n",
    "np.set_printoptions(precision=3, threshold=16, suppress=True)\n",
    "with np.printoptions(threshold=np.inf):\n",
    "    print(f'G: \\n{G}')"
   ]
  },
  {
   "cell_type": "markdown",
   "metadata": {
    "id": "-kk2uJsUMMx2"
   },
   "source": [
    "### Capacity Matrix"
   ]
  },
  {
   "cell_type": "code",
   "execution_count": 14,
   "metadata": {
    "colab": {
     "base_uri": "https://localhost:8080/"
    },
    "executionInfo": {
     "elapsed": 26,
     "status": "ok",
     "timestamp": 1654364018384,
     "user": {
      "displayName": "Ly Henry",
      "userId": "15002327522031488316"
     },
     "user_tz": -120
    },
    "id": "_8gJ1IPiMMx2",
    "outputId": "0f84ffba-5df4-4fde-fd40-eebb0bfb2ae4"
   },
   "outputs": [
    {
     "name": "stdout",
     "output_type": "stream",
     "text": [
      "[[       0.        0.        0.        0.        0.        0.        0.\n",
      "         0.        0.        0.        0.        0.        0.        0.\n",
      "         0.        0.        0.]\n",
      " [       0. 18216000.        0.        0.        0.        0.        0.\n",
      "         0.        0.        0.        0.        0.        0.        0.\n",
      "         0.        0.        0.]\n",
      " [       0.        0.        0.        0.        0.        0.        0.\n",
      "         0.        0.        0.        0.        0.        0.        0.\n",
      "         0.        0.        0.]\n",
      " [       0.        0.        0. 18216000.        0.        0.        0.\n",
      "         0.        0.        0.        0.        0.        0.        0.\n",
      "         0.        0.        0.]\n",
      " [       0.        0.        0.        0.        0.        0.        0.\n",
      "         0.        0.        0.        0.        0.        0.        0.\n",
      "         0.        0.        0.]\n",
      " [       0.        0.        0.        0.        0.        0.        0.\n",
      "         0.        0.        0.        0.        0.        0.        0.\n",
      "         0.        0.        0.]\n",
      " [       0.        0.        0.        0.        0.        0.        0.\n",
      "         0.        0.        0.        0.        0.        0.        0.\n",
      "         0.        0.        0.]\n",
      " [       0.        0.        0.        0.        0.        0.        0.\n",
      "         0.        0.        0.        0.        0.        0.        0.\n",
      "         0.        0.        0.]\n",
      " [       0.        0.        0.        0.        0.        0.        0.\n",
      "         0.        0.        0.        0.        0.        0.        0.\n",
      "         0.        0.        0.]\n",
      " [       0.        0.        0.        0.        0.        0.        0.\n",
      "         0.        0. 18216000.        0.        0.        0.        0.\n",
      "         0.        0.        0.]\n",
      " [       0.        0.        0.        0.        0.        0.        0.\n",
      "         0.        0.        0.        0.        0.        0.        0.\n",
      "         0.        0.        0.]\n",
      " [       0.        0.        0.        0.        0.        0.        0.\n",
      "         0.        0.        0.        0. 18216000.        0.        0.\n",
      "         0.        0.        0.]\n",
      " [       0.        0.        0.        0.        0.        0.        0.\n",
      "         0.        0.        0.        0.        0.        0.        0.\n",
      "         0.        0.        0.]\n",
      " [       0.        0.        0.        0.        0.        0.        0.\n",
      "         0.        0.        0.        0.        0.        0. 18216000.\n",
      "         0.        0.        0.]\n",
      " [       0.        0.        0.        0.        0.        0.        0.\n",
      "         0.        0.        0.        0.        0.        0.        0.\n",
      "         0.        0.        0.]\n",
      " [       0.        0.        0.        0.        0.        0.        0.\n",
      "         0.        0.        0.        0.        0.        0.        0.\n",
      "         0.        0.        0.]\n",
      " [       0.        0.        0.        0.        0.        0.        0.\n",
      "         0.        0.        0.        0.        0.        0.        0.\n",
      "         0.        0.        0.]]\n"
     ]
    }
   ],
   "source": [
    "C = np.diag([0, C['Concrete'], 0, C['Concrete'], 0, 0, 0, 0,\n",
    "             0, C['Concrete'], 0, C['Concrete'], 0, C['Concrete'], 0, 0, 0])\n",
    "with np.printoptions(threshold=np.inf):\n",
    "    print(C)"
   ]
  },
  {
   "cell_type": "markdown",
   "metadata": {
    "id": "9tIr7k9RMMx2"
   },
   "source": [
    "### Input Vector\n",
    "\n",
    "If the flow in a source is from low potential to high potential (i.e. from - to +), the source is positive 🔗 . Let's give some arbitrary non-zero values to the temperature sources:"
   ]
  },
  {
   "cell_type": "code",
   "execution_count": 15,
   "metadata": {
    "executionInfo": {
     "elapsed": 25,
     "status": "ok",
     "timestamp": 1654364018385,
     "user": {
      "displayName": "Ly Henry",
      "userId": "15002327522031488316"
     },
     "user_tz": -120
    },
    "id": "aIJ3MU-lMMx2"
   },
   "outputs": [],
   "source": [
    "b = np.zeros(25)\n",
    "b[[0, 6, 8, 18, 19, 20, 21, 22]] = 10 + np.array([0, 60, 80, 180, 190, 200, 210, 220])"
   ]
  },
  {
   "cell_type": "code",
   "execution_count": 16,
   "metadata": {
    "executionInfo": {
     "elapsed": 24,
     "status": "ok",
     "timestamp": 1654364018385,
     "user": {
      "displayName": "Ly Henry",
      "userId": "15002327522031488316"
     },
     "user_tz": -120
    },
    "id": "EXDmRMkFMMx2"
   },
   "outputs": [],
   "source": [
    "f = np.zeros(17) # 17 Nodes\n",
    "f[[0, 4, 7, 8, 10, 14]] = 1000 + np.array([0, 4000, 7000, 8000, 10000, 14000])"
   ]
  },
  {
   "cell_type": "code",
   "execution_count": 17,
   "metadata": {
    "executionInfo": {
     "elapsed": 25,
     "status": "ok",
     "timestamp": 1654364018386,
     "user": {
      "displayName": "Ly Henry",
      "userId": "15002327522031488316"
     },
     "user_tz": -120
    },
    "id": "PGVmspzNMMx2"
   },
   "outputs": [],
   "source": [
    "y = np.ones(17)"
   ]
  },
  {
   "cell_type": "code",
   "execution_count": 18,
   "metadata": {
    "colab": {
     "base_uri": "https://localhost:8080/"
    },
    "executionInfo": {
     "elapsed": 24,
     "status": "ok",
     "timestamp": 1654364018386,
     "user": {
      "displayName": "Ly Henry",
      "userId": "15002327522031488316"
     },
     "user_tz": -120
    },
    "id": "W1hPfCAlMMx3",
    "outputId": "dc6faf6c-f21e-47b2-97f1-a3afd85946ec"
   },
   "outputs": [
    {
     "data": {
      "text/plain": [
       "array([   10.,    70.,    90.,   190.,   200.,   210.,   220.,   230.,\n",
       "        1000.,  5000.,  8000.,  9000., 11000., 15000.])"
      ]
     },
     "execution_count": 18,
     "metadata": {},
     "output_type": "execute_result"
    }
   ],
   "source": [
    "u = np.hstack([b[np.nonzero(b)], f[np.nonzero(f)]])\n",
    "u"
   ]
  },
  {
   "cell_type": "markdown",
   "metadata": {
    "id": "hxGSXXp7MMx3"
   },
   "source": [
    "## State-Space Representation\n",
    "-- Explanation --"
   ]
  },
  {
   "cell_type": "code",
   "execution_count": 19,
   "metadata": {
    "executionInfo": {
     "elapsed": 375,
     "status": "ok",
     "timestamp": 1654364018738,
     "user": {
      "displayName": "Ly Henry",
      "userId": "15002327522031488316"
     },
     "user_tz": -120
    },
    "id": "nOICSqOuMMx3"
   },
   "outputs": [],
   "source": [
    "#!/usr/bin/env python3\n",
    "# -*- coding: utf-8 -*-\n",
    "\"\"\"\n",
    "Created on Wed Sep 22 09:58:49 2021\n",
    "\n",
    "@author: cghiaus\n",
    "\n",
    "Import functions for EPW data files.\n",
    "Adapted from\n",
    "https://github.com/pvlib/pvlib-python/blob/master/pvlib/iotools/epw.py\n",
    "\"\"\"\n",
    "\n",
    "import numpy as np\n",
    "import pandas as pd\n",
    "import sys\n",
    "\n",
    "\n",
    "def tc2ss(A, G, b, C, f, y):\n",
    "    \"\"\"\n",
    "        Parameters\n",
    "        ----------\n",
    "        A : TYPE np.array\n",
    "            adjancecy (TC connection ) matrix:\n",
    "            #rows = #heat flow rates; #cols = #temperature nodes\n",
    "\n",
    "        G : TYPE np.array\n",
    "            square diagonal matrix of conductances\n",
    "            #rows = #heat flow rates (or resistances)\n",
    "\n",
    "        b : TYPE np.array\n",
    "            vector indicating the presence of temperature sources on branches:\n",
    "                1 for branches with temperature sources, otherwise 0\n",
    "        C : TYPE np.array\n",
    "            square diagonal matrix of capacities\n",
    "        f : TYPE np.array\n",
    "            vector indicating the presence of flow sources in nodes:\n",
    "                1 for nodes with heat sources, otherwise 0\n",
    "        y : TYPE np.array\n",
    "            vector indicating the temperatures in the outputs:\n",
    "                1 for output nodes, otherwise 0\n",
    "\n",
    "        Returns\n",
    "        -------\n",
    "        As state matrix in state equation\n",
    "        Bs input matrix in state equation\n",
    "        Cs output matrix in observation equation\n",
    "        Ds input matrix in observation equation\n",
    "        Idx{1} nodes with capacities\n",
    "            {2} branches with temp. sources\n",
    "            {3} nodes with flow sources\n",
    "            {4} nodes output temperatures\n",
    "\n",
    "    \"\"\"\n",
    "\n",
    "    rC = np.nonzero(np.diag(C))[0]          # rows of non-zero elements in C\n",
    "    r0 = np.nonzero(np.diag(C) == 0)[0]     # rows of zero elements in C\n",
    "    # idx_nonzero = {'C': rC,\n",
    "    #                'b': np.nonzero(b)[0],\n",
    "    #                'f': np.nonzero(f)[0],\n",
    "    #                'y': np.nonzero(y)[0]}\n",
    "\n",
    "    if rC.size == 0:\n",
    "        sys.exit('Error in dm4bem.tc2ss: capacity C matrix is zero')\n",
    "\n",
    "    CC = np.diag(C[np.nonzero(C)])\n",
    "    K = -A.T @ G @ A\n",
    "\n",
    "    K11 = K[r0, :][:, r0]\n",
    "    K12 = K[r0, :][:, rC]\n",
    "    K21 = K[rC, :][:, r0]\n",
    "    K22 = K[rC, :][:, rC]\n",
    "\n",
    "    Kb = A.T @ G\n",
    "    Kb1 = Kb[r0, :]\n",
    "    Kb2 = Kb[rC, :]\n",
    "\n",
    "    # State equation\n",
    "    As = np.linalg.inv(CC) @ (\n",
    "        -K21 @ np.linalg.inv(K11) @ K12 + K22)\n",
    "    Bs = np.linalg.inv(CC) @ np.hstack([\n",
    "        -K21 @ np.linalg.inv(K11) @ Kb1 + Kb2,\n",
    "        -K21 @ np.linalg.inv(K11),\n",
    "        np.eye(CC.shape[0])])\n",
    "    # re-arragne B s in order of f-sources\n",
    "    # index B for sources [b f0 fC]\n",
    "    idx_new = np.hstack([np.arange(b.size), b.size + r0, b.size + rC])\n",
    "    Bs[:, idx_new] = np.array(Bs)\n",
    "    # indexes of effective inputs [b f]\n",
    "    inp = np.hstack([np.nonzero(b)[0], A.shape[0] + np.nonzero(f)[0]])\n",
    "    # extract actual inputs (inputs <> 0)\n",
    "    Bs = Bs[:, inp]\n",
    "\n",
    "    # Ds if outputs are all states\n",
    "    Ds = np.zeros([y[rC].size, np.hstack([b, f]).size])\n",
    "\n",
    "    # observation equation for outputs that are not states\n",
    "    Cso = -np.linalg.inv(K11) @ K12\n",
    "    Dso = -np.linalg.inv(K11) @ np.hstack(\n",
    "        [Kb1, np.eye(r0.size), np.zeros([r0.size, CC.shape[0]])])\n",
    "\n",
    "    # observation equation for any output\n",
    "    Cx = np.zeros([y.size, As.shape[0]])\n",
    "    Cs = np.diag(y[rC])\n",
    "    Cx[rC, :] = Cs\n",
    "    Cx[r0, :] = Cso\n",
    "    Cs = Cx[np.nonzero(y)[0], :]\n",
    "\n",
    "    Dx = np.zeros([y.size, np.hstack([b, f]).shape[0]])\n",
    "    Dx[r0, :] = Dso     # feed-through if no capacity\n",
    "    Dx[:, idx_new] = np.array(Dx)   # rearange in order of f-sources\n",
    "    Ds = Dx[np.nonzero(y)[0], :][:, inp]\n",
    "\n",
    "    return As, Bs, Cs, Ds\n",
    "\n",
    "\n",
    "# ===========================================================================\n",
    "def sol_rad_tilt_surf(weather_data, surface_orientation, albedo):\n",
    "    \"\"\"\n",
    "    Created on Fri Sep 10 11:04:48 2021\n",
    "    @author: cghiaus\n",
    "\n",
    "    Calculate solar radiation on a tilted surface from weathear data obtained\n",
    "    from `*.epw` file.\n",
    "\n",
    "    Parameters\n",
    "    ----------\n",
    "    weather_data : DataFrame\n",
    "        Index : datetime64\n",
    "        Column names :\n",
    "            'temp_air' : dry bulb temperature at the time indicated, °C\n",
    "            'dir_n_rad' : direct normal radiation during last 60 min, Wh/m²\n",
    "            'dif_h_rad' : diffuse horizontal rad. during last 60 min, Wh/m²\n",
    "\n",
    "    surface_orientation : dictionary\n",
    "        'slope' : slope or tilt angle in deg: [0 180];\n",
    "                    90°- vertical; > 90°- downward facing\n",
    "        'azimuth' : surface azimuth in deg: [-180 180];\n",
    "                    0-south; west-positive\n",
    "        'latitude' : local latitude in deg: [-90 90],\n",
    "                    north positive, south negative\n",
    "\n",
    "    albedo : float\n",
    "        diffuse reflection of solar radiation\n",
    "\n",
    "    Returns\n",
    "    -------\n",
    "    solar_rad_tilt : DataFrame\n",
    "        Index : datetime64\n",
    "        Column names :\n",
    "            'direct' : direct radiation on the surface, Wh/m²\n",
    "            'diffuse' : diffuse radiation on the surface, Wh/m²\n",
    "            'reflected' : reflected radiation on the surface, Wh/m²\n",
    "\n",
    "    References\n",
    "    ----------\n",
    "\n",
    "    1. [Duffie 2020] J.A. Duffie, W. A. Beckman, N. Blair (2020) Solar\n",
    "    Engineering of Thermal Processes, 5th ed. John Wiley & Sons, Inc.\n",
    "    ISBN 9781119540281\n",
    "\n",
    "    2. [Th-CE 2005] Réglementation Thermique 2005. Méthode de calcul Th-CE.\n",
    "    Annexe à l’arrêté du 19 juillet 2006\n",
    "    \"\"\"\n",
    "    B = surface_orientation['slope']\n",
    "    Z = surface_orientation['azimuth']\n",
    "    L = surface_orientation['latitude']\n",
    "\n",
    "    # Transform degrees in radians\n",
    "    B = B * np.pi / 180\n",
    "    Z = Z * np.pi / 180\n",
    "    L = L * np.pi / 180\n",
    "\n",
    "    n = weather_data.index.dayofyear\n",
    "\n",
    "    # [Duffie 2020] eq. 1.6.1a\n",
    "    # [Th-CE] §11.2.1.1, eq. (78)\n",
    "    declination_angle = 23.45 * np.sin(360 * (284 + n) / 365 * np.pi / 180)\n",
    "    d = declination_angle * np.pi / 180\n",
    "\n",
    "    # [Duffie 2020] Example 1.6.1\n",
    "    hour = weather_data.index.hour\n",
    "    minute = weather_data.index.minute + 60\n",
    "    hour_angle = 15 * ((hour + minute / 60) - 12)\n",
    "    h = hour_angle * np.pi / 180\n",
    "\n",
    "    # [Duffie 2020] incidence angle eq. 1.6.2\n",
    "    # [Th-CE 2005] §11.2.1.1\n",
    "    theta = np.sin(d) * np.sin(L) * np.cos(B)\n",
    "    theta -= np.sin(d) * np.cos(L) * np.sin(B) * np.cos(Z)\n",
    "    theta += np.cos(d) * np.cos(L) * np.cos(B) * np.cos(h)\n",
    "    theta += np.cos(d) * np.sin(L) * np.sin(B) * np.cos(Z) * np.cos(h)\n",
    "    theta += np.cos(d) * np.sin(B) * np.sin(Z) * np.sin(h)\n",
    "    theta = np.array(np.arccos(theta))\n",
    "    theta[theta > (np.pi / 2)] = np.pi / 2\n",
    "\n",
    "    # Direct radiation on a wall\n",
    "    # [Th-CE 2005] §11.2.1.1\n",
    "    dir_rad = weather_data[\"dir_n_rad\"] * np.cos(theta)\n",
    "    dir_rad[dir_rad < 0] = 0\n",
    "\n",
    "    # Diffuse radiation on a wall\n",
    "    # [Th-CE 2005] §11.2.1.2, Eq. 79, p. 31\n",
    "    dif_rad = weather_data[\"dif_h_rad\"] * (1 + np.cos(B)) / 2\n",
    "\n",
    "    # Solar radiation reflected by the ground\n",
    "    # [Th-CE 2005] §112.1.3, after eq. (78)\n",
    "    gamma = np.cos(d) * np.cos(L) * np.cos(h)\n",
    "    gamma += np.sin(d) * np.sin(L)\n",
    "    gamma = np.array(np.arcsin(gamma))\n",
    "    gamma[gamma < 1e-5] = 1e-5\n",
    "\n",
    "    # Radiation reflected by the ground\n",
    "    # [Th-CE 2005] §11.2.1.3 eq. (80)\n",
    "    # direct radiation on horizontal surface\n",
    "    dir_h_rad = weather_data[\"dir_n_rad\"] * np.sin(gamma)\n",
    "    # total reflected radiation\n",
    "    ref_rad = (dir_h_rad + weather_data[\"dif_h_rad\"]) * albedo\n",
    "    # reflected radiation eceived by the wall\n",
    "    ref_rad *= (1 - np.cos(B) / 2)\n",
    "\n",
    "    solar_rad_tilt = pd.DataFrame({'direct': dir_rad,\n",
    "                                   'diffuse': dif_rad,\n",
    "                                   'reflected': ref_rad})\n",
    "    return solar_rad_tilt\n",
    "\n",
    "\n",
    "def read_epw(filename, coerce_year=None):\n",
    "    '''\n",
    "    Read an EPW file into a pandas dataframe.\n",
    "\n",
    "    Note that values contained in the metadata dictionary are unchanged\n",
    "    from the EPW file.\n",
    "\n",
    "    EPW files are commonly used by building simulation professionals\n",
    "    and are widely available on the web. For example via:\n",
    "    https://energyplus.net/weather , http://climate.onebuilding.org or\n",
    "    http://www.ladybug.tools/epwmap/\n",
    "\n",
    "\n",
    "    Parameters\n",
    "    ----------\n",
    "    filename : String\n",
    "        Can be a relative file path or absolute file path.\n",
    "\n",
    "    coerce_year : None or int, default None\n",
    "        If supplied, the year of the data will be set to this value. This can\n",
    "        be a useful feature because EPW data is composed of data from\n",
    "        different years.\n",
    "        Warning: EPW files always have 365*24 = 8760 data rows;\n",
    "        be careful with the use of leap years.\n",
    "\n",
    "\n",
    "    Returns\n",
    "    -------\n",
    "    data : DataFrame\n",
    "        A pandas dataframe with the columns described in the table\n",
    "        below. For more detailed descriptions of each component, please\n",
    "        consult the EnergyPlus Auxiliary Programs documentation [1]_\n",
    "\n",
    "    metadata : dict\n",
    "        The site metadata available in the file.\n",
    "\n",
    "    See Also\n",
    "    --------\n",
    "    pvlib.iotools.parse_epw\n",
    "\n",
    "    Notes\n",
    "    -----\n",
    "\n",
    "    The returned structures have the following fields.\n",
    "\n",
    "    ===============   ======  =========================================\n",
    "    key               format  description\n",
    "    ===============   ======  =========================================\n",
    "    loc               String  default identifier, not used\n",
    "    city              String  site loccation\n",
    "    state-prov        String  state, province or region (if available)\n",
    "    country           String  site country code\n",
    "    data_type         String  type of original data source\n",
    "    WMO_code          String  WMO identifier\n",
    "    latitude          Float   site latitude\n",
    "    longitude         Float   site longitude\n",
    "    TZ                Float   UTC offset\n",
    "    altitude          Float   site elevation\n",
    "    ===============   ======  =========================================\n",
    "\n",
    "\n",
    "    +-------------------------------+-----------------------------------------+\n",
    "    | EPWData field                 | description                             |\n",
    "    +===============================+=========================================+\n",
    "    | index                         | A pandas datetime index. NOTE, times are|\n",
    "    |                               | set to local standard time (daylight    |\n",
    "    |                               | savings is not included). Days run from |\n",
    "    |                               | 0-23h to comply with PVLIB's convention.|\n",
    "    +-------------------------------+-----------------------------------------+\n",
    "    | year                          | Year, from original EPW file. Can be    |\n",
    "    |                               | overwritten using coerce function.      |\n",
    "    +-------------------------------+-----------------------------------------+\n",
    "    | month                         | Month, from original EPW file.          |\n",
    "    +-------------------------------+-----------------------------------------+\n",
    "    | day                           | Day of the month, from original EPW     |\n",
    "    |                               | file.                                   |\n",
    "    +-------------------------------+-----------------------------------------+\n",
    "    | hour                          | Hour of the day from original EPW file. |\n",
    "    |                               | Note that EPW's convention of 1-24h is  |\n",
    "    |                               | not taken over in the index dataframe   |\n",
    "    |                               | used in PVLIB.                          |\n",
    "    +-------------------------------+-----------------------------------------+\n",
    "    | minute                        | Minute, from original EPW file. Not     |\n",
    "    |                               | used.                                   |\n",
    "    +-------------------------------+-----------------------------------------+\n",
    "    | data_source_unct              | Data source and uncertainty flags. See  |\n",
    "    |                               | [1]_, chapter 2.13                      |\n",
    "    +-------------------------------+-----------------------------------------+\n",
    "    | temp_air                      | Dry bulb temperature at the time        |\n",
    "    |                               | indicated, deg C                        |\n",
    "    +-------------------------------+-----------------------------------------+\n",
    "    | temp_dew                      | Dew-point temperature at the time       |\n",
    "    |                               | indicated, deg C                        |\n",
    "    +-------------------------------+-----------------------------------------+\n",
    "    | relative_humidity             | Relative humidity at the time indicated,|\n",
    "    |                               | percent                                 |\n",
    "    +-------------------------------+-----------------------------------------+\n",
    "    | atmospheric_pressure          | Station pressure at the time indicated, |\n",
    "    |                               | Pa                                      |\n",
    "    +-------------------------------+-----------------------------------------+\n",
    "    | etr                           | Extraterrestrial horizontal radiation   |\n",
    "    |                               | recv'd during 60 minutes prior to       |\n",
    "    |                               | timestamp, Wh/m^2                       |\n",
    "    +-------------------------------+-----------------------------------------+\n",
    "    | etrn                          | Extraterrestrial normal radiation recv'd|\n",
    "    |                               | during 60 minutes prior to timestamp,   |\n",
    "    |                               | Wh/m^2                                  |\n",
    "    +-------------------------------+-----------------------------------------+\n",
    "    | ghi_infrared                  | Horizontal infrared radiation recv'd    |\n",
    "    |                               | during 60 minutes prior to timestamp,   |\n",
    "    |                               | Wh/m^2                                  |\n",
    "    +-------------------------------+-----------------------------------------+\n",
    "    | ghi                           | Direct and diffuse horizontal radiation |\n",
    "    |                               | recv'd during 60 minutes prior to       |\n",
    "    |                               | timestamp, Wh/m^2                       |\n",
    "    +-------------------------------+-----------------------------------------+\n",
    "    | dir_n_rad                     | Amount of direct normal radiation       |\n",
    "    |                               | (modeled) recv'd during 60 minutes prior|\n",
    "    |                               | to timestamp, Wh/m^2                    |\n",
    "    +-------------------------------+-----------------------------------------+\n",
    "    | dif_h_rad                     | Amount of diffuse horizontal radiation  |\n",
    "    |                               | recv'd during 60 minutes prior to       |\n",
    "    |                               | timestamp, Wh/m^2                       |\n",
    "    +-------------------------------+-----------------------------------------+\n",
    "    | global_hor_illum              | Avg. total horizontal illuminance recv'd|\n",
    "    |                               | during the 60 minutes prior to          |\n",
    "    |                               | timestamp, lx                           |\n",
    "    +-------------------------------+-----------------------------------------+\n",
    "    | direct_normal_illum           | Avg. direct normal illuminance recv'd   |\n",
    "    |                               | during the 60 minutes prior to          |\n",
    "    |                               | timestamp, lx                           |\n",
    "    +-------------------------------+-----------------------------------------+\n",
    "    | diffuse_horizontal_illum      | Avg. horizontal diffuse illuminance     |\n",
    "    |                               | recv'd during the 60 minutes prior to   |\n",
    "    |                               | timestamp, lx                           |\n",
    "    +-------------------------------+-----------------------------------------+\n",
    "    | zenith_luminance              | Avg. luminance at the sky's zenith      |\n",
    "    |                               | during the 60 minutes prior to          |\n",
    "    |                               | timestamp, cd/m^2                       |\n",
    "    +-------------------------------+-----------------------------------------+\n",
    "    | wind_direction                | Wind direction at time indicated,       |\n",
    "    |                               | degrees from north (360 = north; 0 =    |\n",
    "    |                               | undefined,calm)                         |\n",
    "    +-------------------------------+-----------------------------------------+\n",
    "    | wind_speed                    | Wind speed at the time indicated, m/s   |\n",
    "    +-------------------------------+-----------------------------------------+\n",
    "    | total_sky_cover               | Amount of sky dome covered by clouds or |\n",
    "    |                               | obscuring phenomena at time stamp,      |\n",
    "    |                               | tenths of sky                           |\n",
    "    +-------------------------------+-----------------------------------------+\n",
    "    | opaque_sky_cover              | Amount of sky dome covered by clouds or |\n",
    "    |                               | obscuring phenomena that prevent        |\n",
    "    |                               | observing the sky at time stamp, tenths |\n",
    "    |                               | of sky                                  |\n",
    "    +-------------------------------+-----------------------------------------+\n",
    "    | visibility                    | Horizontal visibility at the time       |\n",
    "    |                               | indicated, km                           |\n",
    "    +-------------------------------+-----------------------------------------+\n",
    "    | ceiling_height                | Height of cloud base above local terrain|\n",
    "    |                               | (7777=unlimited), meter                 |\n",
    "    +-------------------------------+-----------------------------------------+\n",
    "    | present_weather_observation   | Indicator for remaining fields: If 0,   |\n",
    "    |                               | then the observed weather codes are     |\n",
    "    |                               | taken from the following field. If 9,   |\n",
    "    |                               | then missing weather is assumed.        |\n",
    "    +-------------------------------+-----------------------------------------+\n",
    "    | present_weather_codes         | Present weather code, see [1], chapter  |\n",
    "    |                               | 2.9.1.28                                |\n",
    "    +-------------------------------+-----------------------------------------+\n",
    "    | precipitable_water            | Total precipitable water contained in a |\n",
    "    |                               | column of unit cross section from earth |\n",
    "    |                               | to top of atmosphere, cm. Note that some|\n",
    "    |                               | old_TMY3.epw files may have incorrect   |\n",
    "    |                               | unit if it was retrieved from           |\n",
    "    |                               | www.energyplus.net.                     |\n",
    "    +-------------------------------+-----------------------------------------+\n",
    "    | aerosol_optical_depth         | The broadband aerosol optical depth per |\n",
    "    |                               | unit of air mass due to extinction by   |\n",
    "    |                               | aerosol component of atmosphere,        |\n",
    "    |                               | unitless                                |\n",
    "    +-------------------------------+-----------------------------------------+\n",
    "    | snow_depth                    | Snow depth in centimeters on the day    |\n",
    "    |                               | indicated, (999 = missing data)         |\n",
    "    +-------------------------------+-----------------------------------------+\n",
    "    | days_since_last_snowfall      | Number of days since last snowfall      |\n",
    "    |                               | (maximum value of 88, where 88 = 88 or  |\n",
    "    |                               | greater days; 99 = missing data)        |\n",
    "    +-------------------------------+-----------------------------------------+\n",
    "    | albedo                        | The ratio of reflected solar irradiance |\n",
    "    |                               | to global horizontal irradiance,        |\n",
    "    |                               | unitless                                |\n",
    "    +-------------------------------+-----------------------------------------+\n",
    "    | liquid_precipitation_depth    | The amount of liquid precipitation      |\n",
    "    |                               | observed at indicated time for the      |\n",
    "    |                               | period indicated in the liquid          |\n",
    "    |                               | precipitation quantity field,           |\n",
    "    |                               | millimeter                              |\n",
    "    +-------------------------------+-----------------------------------------+\n",
    "    | liquid_precipitation_quantity | The period of accumulation for the      |\n",
    "    |                               | liquid precipitation depth field, hour  |\n",
    "    +-------------------------------+-----------------------------------------+\n",
    "\n",
    "\n",
    "    References\n",
    "    ----------\n",
    "\n",
    "    .. [1] `EnergyPlus documentation, Auxiliary Programs\n",
    "       <https://energyplus.net/documentation>`_\n",
    "    '''\n",
    "\n",
    "    # Assume it's accessible via the file system\n",
    "    csvdata = open(str(filename), 'r')\n",
    "    try:\n",
    "        data, meta = parse_epw(csvdata, coerce_year)\n",
    "    finally:\n",
    "        csvdata.close()\n",
    "    return data, meta\n",
    "\n",
    "\n",
    "def parse_epw(csvdata, coerce_year=None):\n",
    "    \"\"\"\n",
    "    Given a file-like buffer with data in Energy Plus Weather (EPW) format,\n",
    "    parse the data into a dataframe.\n",
    "\n",
    "    Parameters\n",
    "    ----------\n",
    "    csvdata : file-like buffer\n",
    "        a file-like buffer containing data in the EPW format\n",
    "\n",
    "    coerce_year : None or int, default None\n",
    "        If supplied, the year of the data will be set to this value. This can\n",
    "        be a useful feature because EPW data is composed of data from\n",
    "        different years.\n",
    "        Warning: EPW files always have 365*24 = 8760 data rows;\n",
    "        be careful with the use of leap years.\n",
    "\n",
    "    Returns\n",
    "    -------\n",
    "    data : DataFrame\n",
    "        A pandas dataframe with the columns described in the table\n",
    "        below. For more detailed descriptions of each component, please\n",
    "        consult the EnergyPlus Auxiliary Programs documentation\n",
    "        available at: https://energyplus.net/documentation.\n",
    "\n",
    "    metadata : dict\n",
    "        The site metadata available in the file.\n",
    "\n",
    "    See Also\n",
    "    --------\n",
    "    pvlib.iotools.read_epw\n",
    "    \"\"\"\n",
    "    # Read line with metadata\n",
    "    firstline = csvdata.readline()\n",
    "\n",
    "    head = ['loc', 'city', 'state-prov', 'country', 'data_type', 'WMO_code',\n",
    "            'latitude', 'longitude', 'TZ', 'altitude']\n",
    "    meta = dict(zip(head, firstline.rstrip('\\n').split(\",\")))\n",
    "\n",
    "    meta['altitude'] = float(meta['altitude'])\n",
    "    meta['latitude'] = float(meta['latitude'])\n",
    "    meta['longitude'] = float(meta['longitude'])\n",
    "    meta['TZ'] = float(meta['TZ'])\n",
    "\n",
    "    colnames = ['year', 'month', 'day', 'hour', 'minute', 'data_source_unct',\n",
    "                'temp_air', 'temp_dew', 'relative_humidity',\n",
    "                'atmospheric_pressure', 'etr', 'etrn', 'ghi_infrared', 'ghi',\n",
    "                'dir_n_rad', 'dif_h_rad', 'global_hor_illum',\n",
    "                'direct_normal_illum', 'diffuse_horizontal_illum',\n",
    "                'zenith_luminance',\n",
    "                'wind_direction', 'wind_speed', 'total_sky_cover',\n",
    "                'opaque_sky_cover', 'visibility', 'ceiling_height',\n",
    "                'present_weather_observation', 'present_weather_codes',\n",
    "                'precipitable_water', 'aerosol_optical_depth', 'snow_depth',\n",
    "                'days_since_last_snowfall', 'albedo',\n",
    "                'liquid_precipitation_depth', 'liquid_precipitation_quantity']\n",
    "\n",
    "    # We only have to skip 6 rows instead of 7 because we have already used\n",
    "    # the realine call above.\n",
    "    data = pd.read_csv(csvdata, skiprows=6, header=0, names=colnames)\n",
    "\n",
    "    # Change to single year if requested\n",
    "    if coerce_year is not None:\n",
    "        data[\"year\"] = coerce_year\n",
    "\n",
    "    # create index that supplies correct date and time zone information\n",
    "    dts = data[['month', 'day']].astype(str).apply(lambda x: x.str.zfill(2))\n",
    "    hrs = (data['hour'] - 1).astype(str).str.zfill(2)\n",
    "    dtscat = data['year'].astype(str) + dts['month'] + dts['day'] + hrs\n",
    "    idx = pd.to_datetime(dtscat, format='%Y%m%d%H')\n",
    "    idx = idx.dt.tz_localize(int(meta['TZ'] * 3600))\n",
    "    data.index = idx\n",
    "\n",
    "    return data, meta\n"
   ]
  },
  {
   "cell_type": "code",
   "execution_count": 20,
   "metadata": {
    "executionInfo": {
     "elapsed": 8,
     "status": "ok",
     "timestamp": 1654364018739,
     "user": {
      "displayName": "Ly Henry",
      "userId": "15002327522031488316"
     },
     "user_tz": -120
    },
    "id": "4P5zp2KZMMx6",
    "scrolled": true
   },
   "outputs": [],
   "source": [
    "[As, Bs, Cs, Ds] = tc2ss(A, G, b, C, f, y)"
   ]
  },
  {
   "cell_type": "markdown",
   "metadata": {
    "id": "BQ9845UdMMx7"
   },
   "source": [
    "Let's compare the steady state results obtained with the differential-algebraic equations of the thermal circuit:\n",
    "$$y_{tc} = (A^T G A)^{-1}(A^T G b + f)$$\n",
    "and the state-space:\n",
    "$$y_{ss} = (-C_s A_s^{-1} B_s + D_s) u$$ "
   ]
  },
  {
   "cell_type": "code",
   "execution_count": 21,
   "metadata": {
    "colab": {
     "base_uri": "https://localhost:8080/"
    },
    "executionInfo": {
     "elapsed": 8,
     "status": "ok",
     "timestamp": 1654364018740,
     "user": {
      "displayName": "Ly Henry",
      "userId": "15002327522031488316"
     },
     "user_tz": -120
    },
    "id": "IxR29dfEMMx7",
    "outputId": "5fc7ac43-6167-4503-d7d5-98c1f18d6ca4"
   },
   "outputs": [
    {
     "name": "stdout",
     "output_type": "stream",
     "text": [
      "[  12.271   12.339   12.408 ... -159.674   39.491   15.904]\n",
      "[  12.271   12.339   12.408 ... -159.674   39.491   15.904]\n",
      "Max error in steady-state between thermal circuit and state-space: 3.69e-13\n"
     ]
    }
   ],
   "source": [
    "yss = (-Cs @ np.linalg.inv(As) @ Bs + Ds) @ u\n",
    "ytc = np.linalg.inv(A.T @ G @ A) @ (A.T @ G @ b + f)\n",
    "\n",
    "print(np.array_str(yss, precision=3, suppress_small=True))\n",
    "print(np.array_str(ytc, precision=3, suppress_small=True))\n",
    "print(f'Max error in steady-state between thermal circuit and state-space:\\\n",
    " {max(abs(yss - ytc)):.2e}')"
   ]
  },
  {
   "cell_type": "markdown",
   "metadata": {
    "id": "tzGdEqtkMMx7"
   },
   "source": [
    "## Dynamic Simulation"
   ]
  },
  {
   "cell_type": "code",
   "execution_count": 22,
   "metadata": {
    "executionInfo": {
     "elapsed": 417,
     "status": "ok",
     "timestamp": 1654364019151,
     "user": {
      "displayName": "Ly Henry",
      "userId": "15002327522031488316"
     },
     "user_tz": -120
    },
    "id": "KpulVqaPMMx7"
   },
   "outputs": [],
   "source": [
    "b = np.zeros(25)\n",
    "f = np.zeros(17)\n",
    "\n",
    "f[[0, 4, 5, 7, 8, 12]] = 1\n",
    "b[[0, 6, 7, 16, 17, 18]] = 1"
   ]
  },
  {
   "cell_type": "markdown",
   "metadata": {
    "id": "od0up4CPMMx7"
   },
   "source": [
    "Let's consider the output of the circuit temperature to be the indoor(Room 2) temperature(node 7)"
   ]
  },
  {
   "cell_type": "code",
   "execution_count": 23,
   "metadata": {
    "executionInfo": {
     "elapsed": 20,
     "status": "ok",
     "timestamp": 1654364019152,
     "user": {
      "displayName": "Ly Henry",
      "userId": "15002327522031488316"
     },
     "user_tz": -120
    },
    "id": "2OXxd-HhMMx7"
   },
   "outputs": [],
   "source": [
    "y = np.zeros(17)\n",
    "y[[5]] = 1"
   ]
  },
  {
   "cell_type": "markdown",
   "metadata": {
    "id": "g2UI2W-TMMx7"
   },
   "source": [
    "The state-space representation is obtained from the differential-algebraic equations of the thermal circuit:"
   ]
  },
  {
   "cell_type": "code",
   "execution_count": 24,
   "metadata": {
    "executionInfo": {
     "elapsed": 20,
     "status": "ok",
     "timestamp": 1654364019153,
     "user": {
      "displayName": "Ly Henry",
      "userId": "15002327522031488316"
     },
     "user_tz": -120
    },
    "id": "-bYIXpcaMMx8"
   },
   "outputs": [],
   "source": [
    "[As, Bs, Cs, Ds] = tc2ss(A, G, b, C, f, y)"
   ]
  },
  {
   "cell_type": "markdown",
   "metadata": {
    "id": "vZV3vHFWMMx8"
   },
   "source": [
    "### Time Step\n",
    "\n",
    "The maximum time step for numerical stability of Euler explicit itegration in time is given by the minimum eigenvalue $\\lambda$ of the state matrix $A_s$:\n",
    "\n",
    "$$ \\Delta t \\leq \\min (-2 / \\lambda_i) = \\min T_i/2$$\n",
    "\n",
    "where $T_i$ is the time constants, $T_i = - \\frac{1}{\\lambda_i} $"
   ]
  },
  {
   "cell_type": "code",
   "execution_count": 25,
   "metadata": {
    "colab": {
     "base_uri": "https://localhost:8080/"
    },
    "executionInfo": {
     "elapsed": 20,
     "status": "ok",
     "timestamp": 1654364019154,
     "user": {
      "displayName": "Ly Henry",
      "userId": "15002327522031488316"
     },
     "user_tz": -120
    },
    "id": "zFYv4EpAMMx8",
    "outputId": "98321e4f-123e-46af-e30b-addaad427c8c"
   },
   "outputs": [
    {
     "name": "stdout",
     "output_type": "stream",
     "text": [
      "Maximum time step: 95166.46 s\n"
     ]
    }
   ],
   "source": [
    "# Assume:\n",
    "dtmax = min(-2. / np.linalg.eig(As)[0])\n",
    "print(f'Maximum time step: {dtmax:.2f} s')"
   ]
  },
  {
   "cell_type": "code",
   "execution_count": 26,
   "metadata": {
    "executionInfo": {
     "elapsed": 18,
     "status": "ok",
     "timestamp": 1654364019154,
     "user": {
      "displayName": "Ly Henry",
      "userId": "15002327522031488316"
     },
     "user_tz": -120
    },
    "id": "bRz232hhMMx8"
   },
   "outputs": [],
   "source": [
    "dt = 5000"
   ]
  },
  {
   "cell_type": "markdown",
   "metadata": {
    "id": "Xq-MYcWbMMx8"
   },
   "source": [
    "### Step response\n",
    "\n",
    "Let's obtain the dynamic response of the system to a step input. For the duration of simulation:"
   ]
  },
  {
   "cell_type": "code",
   "execution_count": 27,
   "metadata": {
    "executionInfo": {
     "elapsed": 18,
     "status": "ok",
     "timestamp": 1654364019155,
     "user": {
      "displayName": "Ly Henry",
      "userId": "15002327522031488316"
     },
     "user_tz": -120
    },
    "id": "tGnVgRM6MMx8"
   },
   "outputs": [],
   "source": [
    "duration = 3600 * 24 * 4        # [s]\n",
    "n = int(np.floor(duration / dt))\n",
    "t = np.arange(0, n * dt, dt)    # time"
   ]
  },
  {
   "cell_type": "code",
   "execution_count": 28,
   "metadata": {
    "colab": {
     "base_uri": "https://localhost:8080/"
    },
    "executionInfo": {
     "elapsed": 17,
     "status": "ok",
     "timestamp": 1654364019155,
     "user": {
      "displayName": "Ly Henry",
      "userId": "15002327522031488316"
     },
     "user_tz": -120
    },
    "id": "SnCqpC8tMMx8",
    "outputId": "03c51c5e-db0a-4a02-fd3f-7b3eebb483e0"
   },
   "outputs": [
    {
     "data": {
      "text/plain": [
       "69"
      ]
     },
     "execution_count": 28,
     "metadata": {},
     "output_type": "execute_result"
    }
   ],
   "source": [
    "n"
   ]
  },
  {
   "cell_type": "markdown",
   "metadata": {
    "id": "3UMAnMXtMMx8"
   },
   "source": [
    "For the input vector **u**, the outdoor temperatures will be `To = 1`, the indoor set-point temperature will `Tsp =0`, and the heat flow sources will be zero. "
   ]
  },
  {
   "cell_type": "code",
   "execution_count": 29,
   "metadata": {
    "executionInfo": {
     "elapsed": 17,
     "status": "ok",
     "timestamp": 1654364019156,
     "user": {
      "displayName": "Ly Henry",
      "userId": "15002327522031488316"
     },
     "user_tz": -120
    },
    "id": "zIGIBu40MMx9"
   },
   "outputs": [],
   "source": [
    "# Vectors of state and input (in time)\n",
    "n_tC = As.shape[0]              # no of state variables (temps with capacity)\n",
    "# u = [To To To Tsp Phio Phii Qaux Phia]\n",
    "u = np.zeros([12, n])\n",
    "u[0:8, :] = np.ones([8, n])"
   ]
  },
  {
   "cell_type": "code",
   "execution_count": 30,
   "metadata": {
    "executionInfo": {
     "elapsed": 16,
     "status": "ok",
     "timestamp": 1654364019156,
     "user": {
      "displayName": "Ly Henry",
      "userId": "15002327522031488316"
     },
     "user_tz": -120
    },
    "id": "fKDaB57jMMx9"
   },
   "outputs": [],
   "source": [
    "temp_exp = np.zeros([n_tC, t.shape[0]])\n",
    "temp_imp = np.zeros([n_tC, t.shape[0]])"
   ]
  },
  {
   "cell_type": "markdown",
   "metadata": {
    "id": "9aZN_HbaMMx9"
   },
   "source": [
    "By integrating the state-space model\n",
    "$$\\left\\{\\begin{array}{rr}\n",
    "\\dot{\\theta}=A_s \\theta + B_s u\\\\ \n",
    "y = C_s \\theta + D_s u\n",
    "\\end{array}\\right.$$\n",
    "by using Euler forward (or explicit)\n",
    "$$ \\theta_{k+1} = (I + \\Delta t A) \\theta _k + \\Delta t B u_k $$\n",
    "and Euler backward (or implicit) integration\n",
    "$$\\theta_{k+1} = (I - \\Delta t A)^{-1} ( \\theta _k + \\Delta t B u_k )$$"
   ]
  },
  {
   "cell_type": "code",
   "execution_count": 31,
   "metadata": {
    "executionInfo": {
     "elapsed": 16,
     "status": "ok",
     "timestamp": 1654364019157,
     "user": {
      "displayName": "Ly Henry",
      "userId": "15002327522031488316"
     },
     "user_tz": -120
    },
    "id": "boq7ZdlVMMx9",
    "scrolled": true
   },
   "outputs": [],
   "source": [
    "I = np.eye(n_tC)\n",
    "for k in range(n - 1):\n",
    "    temp_exp[:, k + 1] = (I + dt * As) @ temp_exp[:, k] + dt * Bs @ u[:, k]\n",
    "    temp_imp[:, k + 1] = np.linalg.inv(I - dt * As) @ (temp_imp[:, k] + dt * Bs @ u[:, k])\n"
   ]
  },
  {
   "cell_type": "code",
   "execution_count": 32,
   "metadata": {
    "colab": {
     "base_uri": "https://localhost:8080/"
    },
    "executionInfo": {
     "elapsed": 16,
     "status": "ok",
     "timestamp": 1654364019157,
     "user": {
      "displayName": "Ly Henry",
      "userId": "15002327522031488316"
     },
     "user_tz": -120
    },
    "id": "q2iXQGy6MMx9",
    "outputId": "e142cc4d-a828-46f6-d926-2b19799085a2"
   },
   "outputs": [
    {
     "data": {
      "text/plain": [
       "(12, 69)"
      ]
     },
     "execution_count": 32,
     "metadata": {},
     "output_type": "execute_result"
    }
   ],
   "source": [
    "u.shape"
   ]
  },
  {
   "cell_type": "code",
   "execution_count": 33,
   "metadata": {
    "colab": {
     "base_uri": "https://localhost:8080/",
     "height": 0
    },
    "executionInfo": {
     "elapsed": 396,
     "status": "ok",
     "timestamp": 1654364019538,
     "user": {
      "displayName": "Ly Henry",
      "userId": "15002327522031488316"
     },
     "user_tz": -120
    },
    "id": "Vvnh4rX6MMx9",
    "outputId": "fdf02a4e-f380-4174-b8d8-0ed04b4986b6"
   },
   "outputs": [
    {
     "data": {
      "image/png": "[encoded data removed]",
      "text/plain": [
       "<Figure size 432x288 with 1 Axes>"
      ]
     },
     "metadata": {
      "needs_background": "light"
     },
     "output_type": "display_data"
    }
   ],
   "source": [
    "y_exp = Cs @ temp_exp + Ds @  u\n",
    "y_imp = Cs @ temp_imp + Ds @  u\n",
    "\n",
    "fig, ax = plt.subplots()\n",
    "ax.plot(t / 3600, y_exp.T, t / 3600, y_imp.T)\n",
    "ax.set(xlabel='Time [h]',\n",
    "       ylabel='$T_i$ [°C]',\n",
    "       title='Step input: To = 1°C')\n",
    "plt.show()"
   ]
  },
  {
   "cell_type": "code",
   "execution_count": 34,
   "metadata": {
    "colab": {
     "base_uri": "https://localhost:8080/"
    },
    "executionInfo": {
     "elapsed": 10,
     "status": "ok",
     "timestamp": 1654364019539,
     "user": {
      "displayName": "Ly Henry",
      "userId": "15002327522031488316"
     },
     "user_tz": -120
    },
    "id": "LQ9ZmthJMMx9",
    "outputId": "45a4c478-5948-4340-9842-fe728e86398d"
   },
   "outputs": [
    {
     "name": "stdout",
     "output_type": "stream",
     "text": [
      "Steady-state indoor temperature obtained with:\n",
      "- DAE model: 0.1355 °C\n",
      "- response to step input:-0.0276 °C\n"
     ]
    }
   ],
   "source": [
    "b = np.zeros(25)\n",
    "b[[0, 6, 7, 16, 17, 18]] = 1\n",
    "f = np.zeros(17)\n",
    "\n",
    "ytc = np.linalg.inv(A.T @ G @ A) @ (A.T @ G @ b + f)\n",
    "print('Steady-state indoor temperature obtained with:')\n",
    "print(f'- DAE model: {ytc[6]:.4f} °C')\n",
    "print(f'- response to step input:{float(y_exp[:, -2]):.4f} °C')"
   ]
  },
  {
   "cell_type": "markdown",
   "metadata": {
    "id": "zOdHHRPTMMx-"
   },
   "source": [
    "### Simulation with weather data\n",
    "\n",
    "Read the hourly weather data file from start date to end date. The data are for a year (the choice of 2000 for the year is arbitrary)."
   ]
  },
  {
   "cell_type": "code",
   "execution_count": 35,
   "metadata": {
    "executionInfo": {
     "elapsed": 370,
     "status": "ok",
     "timestamp": 1654364019901,
     "user": {
      "displayName": "Ly Henry",
      "userId": "15002327522031488316"
     },
     "user_tz": -120
    },
    "id": "QgpX6jlwMMx-"
   },
   "outputs": [],
   "source": [
    "filename = 'FRA_Lyon.074810_IWEC.epw'\n",
    "start_date = '2000-01-03 12:00:00'\n",
    "end_date = '2000-02-05 18:00:00'\n",
    "\n",
    "# Read weather data from Energyplus .epw file\n",
    "[data, meta] = read_epw(filename, coerce_year=None)\n",
    "weather = data[[\"temp_air\", \"dir_n_rad\", \"dif_h_rad\"]]\n",
    "del data\n",
    "weather.index = weather.index.map(lambda t: t.replace(year=2000))\n",
    "weather = weather[(weather.index >= start_date) & (\n",
    "    weather.index < end_date)]"
   ]
  },
  {
   "cell_type": "markdown",
   "metadata": {
    "id": "AmsHh3kaMMx-"
   },
   "source": [
    "From weather data, calculate the hourly solar radiation on a tilted surface, `Φt1` [W]:"
   ]
  },
  {
   "cell_type": "code",
   "execution_count": 36,
   "metadata": {
    "executionInfo": {
     "elapsed": 23,
     "status": "ok",
     "timestamp": 1654364019902,
     "user": {
      "displayName": "Ly Henry",
      "userId": "15002327522031488316"
     },
     "user_tz": -120
    },
    "id": "z2JlUtC8MMx-"
   },
   "outputs": [],
   "source": [
    "surface_orientation = {'slope': 90,\n",
    "                       'azimuth': 0,\n",
    "                       'latitude': 45}\n",
    "albedo = 0.2\n",
    "rad_surf1 = sol_rad_tilt_surf(weather, surface_orientation, albedo)\n",
    "rad_surf1['Φt1'] = rad_surf1.sum(axis=1)"
   ]
  },
  {
   "cell_type": "markdown",
   "metadata": {
    "id": "7kLcBoPWMMx-"
   },
   "source": [
    "The weather data is at the time-step of 1h. It needs to be at time step of `dt`. "
   ]
  },
  {
   "cell_type": "code",
   "execution_count": 37,
   "metadata": {
    "colab": {
     "base_uri": "https://localhost:8080/"
    },
    "executionInfo": {
     "elapsed": 24,
     "status": "ok",
     "timestamp": 1654364019903,
     "user": {
      "displayName": "Ly Henry",
      "userId": "15002327522031488316"
     },
     "user_tz": -120
    },
    "id": "-6mCuxf4MMx-",
    "outputId": "468305bb-7908-4d4a-9aa7-c52762a36014"
   },
   "outputs": [
    {
     "name": "stdout",
     "output_type": "stream",
     "text": [
      "                           temp_air         Φt1\n",
      "2000-01-03 12:00:00+01:00       6.8   98.949619\n",
      "2000-01-03 13:00:00+01:00       8.0  171.364399\n",
      "2000-01-03 14:00:00+01:00      10.0  164.029026\n",
      "2000-01-03 15:00:00+01:00       9.0   97.877824\n",
      "2000-01-03 16:00:00+01:00       8.0   13.300000\n",
      "...                             ...         ...\n",
      "2000-02-05 13:00:00+01:00      11.0  671.116452\n",
      "2000-02-05 14:00:00+01:00      12.0  485.272692\n",
      "2000-02-05 15:00:00+01:00      12.0  293.359833\n",
      "2000-02-05 16:00:00+01:00      11.0  106.332549\n",
      "2000-02-05 17:00:00+01:00      10.0    8.400000\n",
      "\n",
      "[798 rows x 2 columns]\n",
      "                           temp_air         Φt1\n",
      "2000-01-03 12:30:00+01:00       6.8   98.949619\n",
      "2000-01-03 13:53:20+01:00       8.0  171.364399\n",
      "2000-01-03 15:16:40+01:00       9.0   97.877824\n",
      "2000-01-03 16:40:00+01:00       8.0   13.300000\n",
      "2000-01-03 18:03:20+01:00       4.9    0.000000\n",
      "...                             ...         ...\n",
      "2000-02-05 12:10:00+01:00      11.0  709.796200\n",
      "2000-02-05 13:33:20+01:00      11.0  671.116452\n",
      "2000-02-05 14:56:40+01:00      12.0  485.272692\n",
      "2000-02-05 16:20:00+01:00      11.0  106.332549\n",
      "2000-02-05 17:00:00+01:00      10.0    8.400000\n",
      "\n",
      "[575 rows x 2 columns]\n"
     ]
    }
   ],
   "source": [
    "data = pd.concat([weather['temp_air'], rad_surf1['Φt1']], axis=1)\n",
    "print(data)\n",
    "data1 = data.resample(str(dt) + 'S').pad()\n",
    "data1=data1[1:]\n",
    "data1=data1.append(data.iloc[-1,:])\n",
    "print(data1)\n",
    "data = data.rename(columns={'temp_air': 'To'})"
   ]
  },
  {
   "cell_type": "markdown",
   "metadata": {
    "id": "jqfP5LJgMMx-"
   },
   "source": [
    "Let's consider the indoor temperature setpoint `Ti` and auxiliary heat flow `Qa` constant for the whole simulation period."
   ]
  },
  {
   "cell_type": "code",
   "execution_count": 38,
   "metadata": {
    "executionInfo": {
     "elapsed": 23,
     "status": "ok",
     "timestamp": 1654364019904,
     "user": {
      "displayName": "Ly Henry",
      "userId": "15002327522031488316"
     },
     "user_tz": -120
    },
    "id": "bIdPVY6NMMx-"
   },
   "outputs": [],
   "source": [
    "data['Ti'] = 20 * np.ones(data.shape[0])\n",
    "data['Qa'] = 0 * np.ones(data.shape[0])"
   ]
  },
  {
   "cell_type": "markdown",
   "metadata": {
    "id": "kmV-_DTmMMx_"
   },
   "source": [
    "The simulation time vector, at time step `dt`is:"
   ]
  },
  {
   "cell_type": "code",
   "execution_count": 39,
   "metadata": {
    "executionInfo": {
     "elapsed": 22,
     "status": "ok",
     "timestamp": 1654364019904,
     "user": {
      "displayName": "Ly Henry",
      "userId": "15002327522031488316"
     },
     "user_tz": -120
    },
    "id": "GEAVSD0zMMx_"
   },
   "outputs": [],
   "source": [
    "t = dt * np.arange(data.shape[0])"
   ]
  },
  {
   "cell_type": "markdown",
   "metadata": {
    "id": "xOhnzrDsMMx_"
   },
   "source": [
    "The input vector is formed by the temperature sources $\\left [ T_o, T_o ,T_o, T_{i,sp} \\right ]$ and the heat flow sources $\\left [ \\Phi_o, \\Phi_i, \\dot{Q_a}, \\Phi_a \\right ]$"
   ]
  },
  {
   "cell_type": "code",
   "execution_count": 40,
   "metadata": {
    "executionInfo": {
     "elapsed": 23,
     "status": "ok",
     "timestamp": 1654364019905,
     "user": {
      "displayName": "Ly Henry",
      "userId": "15002327522031488316"
     },
     "user_tz": -120
    },
    "id": "8pJsmFEeMMx_"
   },
   "outputs": [],
   "source": [
    "u = pd.concat([data['To'], data['To'], data['To'], data['To'], data['To'], data['To'], data['To'],  \n",
    "               data['Ti'],\n",
    "               α_wSW * wall['Surface']['Concrete'] * data['Φt1'],\n",
    "               τ_gSW * α_wSW * wall['Surface']['Glass'] * data['Φt1'],\n",
    "               data['Qa'],\n",
    "               α_gSW * wall['Surface']['Glass'] * data['Φt1']], axis=1)"
   ]
  },
  {
   "cell_type": "code",
   "execution_count": 41,
   "metadata": {
    "colab": {
     "base_uri": "https://localhost:8080/"
    },
    "executionInfo": {
     "elapsed": 22,
     "status": "ok",
     "timestamp": 1654364019905,
     "user": {
      "displayName": "Ly Henry",
      "userId": "15002327522031488316"
     },
     "user_tz": -120
    },
    "id": "mpxn9DnDcwdd",
    "outputId": "e8649435-3c18-49b4-ee6d-71e64252de55"
   },
   "outputs": [
    {
     "name": "stdout",
     "output_type": "stream",
     "text": [
      "                             To    To    To    To    To    To    To    Ti  \\\n",
      "2000-01-03 12:00:00+01:00   6.8   6.8   6.8   6.8   6.8   6.8   6.8  20.0   \n",
      "2000-01-03 13:00:00+01:00   8.0   8.0   8.0   8.0   8.0   8.0   8.0  20.0   \n",
      "2000-01-03 14:00:00+01:00  10.0  10.0  10.0  10.0  10.0  10.0  10.0  20.0   \n",
      "2000-01-03 15:00:00+01:00   9.0   9.0   9.0   9.0   9.0   9.0   9.0  20.0   \n",
      "2000-01-03 16:00:00+01:00   8.0   8.0   8.0   8.0   8.0   8.0   8.0  20.0   \n",
      "...                         ...   ...   ...   ...   ...   ...   ...   ...   \n",
      "2000-02-05 13:00:00+01:00  11.0  11.0  11.0  11.0  11.0  11.0  11.0  20.0   \n",
      "2000-02-05 14:00:00+01:00  12.0  12.0  12.0  12.0  12.0  12.0  12.0  20.0   \n",
      "2000-02-05 15:00:00+01:00  12.0  12.0  12.0  12.0  12.0  12.0  12.0  20.0   \n",
      "2000-02-05 16:00:00+01:00  11.0  11.0  11.0  11.0  11.0  11.0  11.0  20.0   \n",
      "2000-02-05 17:00:00+01:00  10.0  10.0  10.0  10.0  10.0  10.0  10.0  20.0   \n",
      "\n",
      "                                   Φt1          Φt1   Qa         Φt1  \n",
      "2000-01-03 12:00:00+01:00   890.546572   147.830731  0.0   89.054657  \n",
      "2000-01-03 13:00:00+01:00  1542.279592   256.018412  0.0  154.227959  \n",
      "2000-01-03 14:00:00+01:00  1476.261234   245.059365  0.0  147.626123  \n",
      "2000-01-03 15:00:00+01:00   880.900415   146.229469  0.0   88.090041  \n",
      "2000-01-03 16:00:00+01:00   119.700000    19.870200  0.0   11.970000  \n",
      "...                                ...          ...  ...         ...  \n",
      "2000-02-05 13:00:00+01:00  6040.048072  1002.647980  0.0  604.004807  \n",
      "2000-02-05 14:00:00+01:00  4367.454230   724.997402  0.0  436.745423  \n",
      "2000-02-05 15:00:00+01:00  2640.238495   438.279590  0.0  264.023849  \n",
      "2000-02-05 16:00:00+01:00   956.992943   158.860829  0.0   95.699294  \n",
      "2000-02-05 17:00:00+01:00    75.600000    12.549600  0.0    7.560000  \n",
      "\n",
      "[798 rows x 12 columns]\n"
     ]
    }
   ],
   "source": [
    "print(u)"
   ]
  },
  {
   "cell_type": "markdown",
   "metadata": {
    "id": "cenhvsIYMMx_"
   },
   "source": [
    "The initial value of the state-vector can be different of zero:"
   ]
  },
  {
   "cell_type": "code",
   "execution_count": 42,
   "metadata": {
    "executionInfo": {
     "elapsed": 18,
     "status": "ok",
     "timestamp": 1654364019906,
     "user": {
      "displayName": "Ly Henry",
      "userId": "15002327522031488316"
     },
     "user_tz": -120
    },
    "id": "UQSqHqatMMx_"
   },
   "outputs": [],
   "source": [
    "temp_exp = 20 * np.ones([As.shape[0], u.shape[0]])"
   ]
  },
  {
   "cell_type": "code",
   "execution_count": 43,
   "metadata": {
    "colab": {
     "base_uri": "https://localhost:8080/"
    },
    "executionInfo": {
     "elapsed": 18,
     "status": "ok",
     "timestamp": 1654364019907,
     "user": {
      "displayName": "Ly Henry",
      "userId": "15002327522031488316"
     },
     "user_tz": -120
    },
    "id": "Fk2jBzgAMMx_",
    "outputId": "9cee7baf-fd58-415a-862a-abb055d67118"
   },
   "outputs": [
    {
     "data": {
      "text/plain": [
       "(5, 798)"
      ]
     },
     "execution_count": 43,
     "metadata": {},
     "output_type": "execute_result"
    }
   ],
   "source": [
    "temp_exp.shape"
   ]
  },
  {
   "cell_type": "markdown",
   "metadata": {
    "id": "2ZjLBk8XMMx_"
   },
   "source": [
    "Explicit Euler integration in time\n",
    "$$ \\theta_{k+1} = (I + \\Delta t A) \\theta _k + \\Delta t B u_k $$"
   ]
  },
  {
   "cell_type": "code",
   "execution_count": 44,
   "metadata": {
    "executionInfo": {
     "elapsed": 288,
     "status": "ok",
     "timestamp": 1654364020182,
     "user": {
      "displayName": "Ly Henry",
      "userId": "15002327522031488316"
     },
     "user_tz": -120
    },
    "id": "41uTidFcMMyA"
   },
   "outputs": [],
   "source": [
    "for k in range(u.shape[0] - 1):\n",
    "    temp_exp[:, k + 1] = (I + dt * As) @ temp_exp[:, k]\\\n",
    "     + dt * Bs @ u.iloc[k, :]"
   ]
  },
  {
   "cell_type": "markdown",
   "metadata": {
    "id": "jeNWI_2bMMyA"
   },
   "source": [
    "yields the time variation of state variable $\\theta$, from which we obtain the variation of the output (i.e. indoor temperature):\n",
    "$$y = C_s \\theta + D_s u$$\n",
    "and the variation of the heat flow of the HVAC system:\n",
    "$$q_{HVAC} = K_p (T_{i,sp} - y)$$\n",
    "where $K_p$ is the gain of the P-controller and $T_{i,sp}$ is the HVAC-setpoint for the indoor temperature."
   ]
  },
  {
   "cell_type": "code",
   "execution_count": 45,
   "metadata": {
    "colab": {
     "base_uri": "https://localhost:8080/",
     "height": 297
    },
    "executionInfo": {
     "elapsed": 616,
     "status": "ok",
     "timestamp": 1654364020794,
     "user": {
      "displayName": "Ly Henry",
      "userId": "15002327522031488316"
     },
     "user_tz": -120
    },
    "id": "RZNTLtcHMMyA",
    "outputId": "acc7e2ae-f473-47d3-9d13-a9e4bfb50923"
   },
   "outputs": [
    {
     "data": {
      "image/png": "[encoded data removed]",
      "text/plain": [
       "<Figure size 432x288 with 2 Axes>"
      ]
     },
     "metadata": {
      "needs_background": "light"
     },
     "output_type": "display_data"
    }
   ],
   "source": [
    "y_exp = Cs @ temp_exp + Ds @ u.to_numpy().T\n",
    "q_HVAC = Kp * (data['Ti'] - y_exp[0, :])\n",
    "\n",
    "fig, axs = plt.subplots(2, 1)\n",
    "# plot indoor and outdoor temperature\n",
    "axs[0].plot(t / 3600, y_exp[0, :], label='$T_{indoor}$')\n",
    "axs[0].plot(t / 3600, data['To'], label='$T_{outdoor}$')\n",
    "axs[0].set(xlabel='Time [h]',\n",
    "           ylabel='Temperatures [°C]',\n",
    "           title='Simulation for weather')\n",
    "axs[0].legend(loc='upper right')\n",
    "\n",
    "# plot total solar radiation and HVAC heat flow\n",
    "axs[1].plot(t / 3600,  q_HVAC, label='$q_{HVAC}$')\n",
    "axs[1].plot(t / 3600, data['Φt1'], label='$Φ_{total}$')\n",
    "axs[1].set(xlabel='Time [h]',\n",
    "           ylabel='Heat flows [W]')\n",
    "axs[1].legend(loc='upper right')\n",
    "\n",
    "fig.tight_layout()"
   ]
  },
  {
   "cell_type": "code",
   "execution_count": 46,
   "metadata": {
    "colab": {
     "base_uri": "https://localhost:8080/"
    },
    "executionInfo": {
     "elapsed": 23,
     "status": "ok",
     "timestamp": 1654364020795,
     "user": {
      "displayName": "Ly Henry",
      "userId": "15002327522031488316"
     },
     "user_tz": -120
    },
    "id": "YNbR4VKANVwA",
    "outputId": "6d4d3b1f-f7e8-472b-b58f-1af0c65f6801"
   },
   "outputs": [
    {
     "name": "stdout",
     "output_type": "stream",
     "text": [
      "[[-1.288 -1.088 -1.753 ... -1.352 -2.508 -2.968]]\n"
     ]
    }
   ],
   "source": [
    "print(Ds @ u.to_numpy().T)"
   ]
  },
  {
   "cell_type": "code",
   "execution_count": 47,
   "metadata": {
    "colab": {
     "base_uri": "https://localhost:8080/"
    },
    "executionInfo": {
     "elapsed": 20,
     "status": "ok",
     "timestamp": 1654364020796,
     "user": {
      "displayName": "Ly Henry",
      "userId": "15002327522031488316"
     },
     "user_tz": -120
    },
    "id": "tNkAyv2MRjJZ",
    "outputId": "6b7b5eed-2042-49dc-9882-3ca0a7b20b2e"
   },
   "outputs": [
    {
     "name": "stdout",
     "output_type": "stream",
     "text": [
      "[[7.102 6.628 6.265 ... 3.401 3.495 3.485]]\n"
     ]
    }
   ],
   "source": [
    "print(Cs @ temp_exp)"
   ]
  },
  {
   "cell_type": "code",
   "execution_count": 48,
   "metadata": {
    "colab": {
     "base_uri": "https://localhost:8080/"
    },
    "executionInfo": {
     "elapsed": 16,
     "status": "ok",
     "timestamp": 1654364020796,
     "user": {
      "displayName": "Ly Henry",
      "userId": "15002327522031488316"
     },
     "user_tz": -120
    },
    "id": "_8E1nrY_Txlj",
    "outputId": "6f42ed4f-385f-45a6-857c-5f8c8358ed1e"
   },
   "outputs": [
    {
     "name": "stdout",
     "output_type": "stream",
     "text": [
      "[[5.814 5.541 4.511 ... 2.049 0.987 0.517]]\n"
     ]
    }
   ],
   "source": [
    "print(y_exp)"
   ]
  }
 ],
 "metadata": {
  "colab": {
   "name": "Thermal Design of 2 Rooms and Feed-back Indoor Temperature Control -Updated.ipynb",
   "provenance": []
  },
  "kernelspec": {
   "display_name": "Python 3",
   "language": "python",
   "name": "python3"
  },
  "language_info": {
   "codemirror_mode": {
    "name": "ipython",
    "version": 3
   },
   "file_extension": ".py",
   "mimetype": "text/x-python",
   "name": "python",
   "nbconvert_exporter": "python",
   "pygments_lexer": "ipython3",
   "version": "3.8.12"
  }
 },
 "nbformat": 4,
 "nbformat_minor": 1
}
